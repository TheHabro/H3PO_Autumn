{
 "cells": [
  {
   "cell_type": "code",
   "execution_count": 5,
   "id": "5bb7371f",
   "metadata": {},
   "outputs": [],
   "source": [
    "import ROOT as r\n",
    "\n",
    "from pathlib import Path\n",
    "\n",
    "import pickle\n",
    "import json"
   ]
  },
  {
   "cell_type": "code",
   "execution_count": 19,
   "id": "b7c0374e",
   "metadata": {},
   "outputs": [
    {
     "data": {
      "text/plain": [
       "{}"
      ]
     },
     "execution_count": 19,
     "metadata": {},
     "output_type": "execute_result"
    }
   ],
   "source": [
    "tablica = {}\n",
    "\n",
    "#with open(\"Signal_efficiency.pickle\", \"wb\") as f:\n",
    "    #pickle.dump(tablica, f)"
   ]
  },
  {
   "cell_type": "code",
   "execution_count": 10,
   "id": "0351c15d",
   "metadata": {},
   "outputs": [
    {
     "data": {
      "text/plain": [
       "{'400, 260': 0.0001,\n",
       " '800, 260': 0.0001,\n",
       " '800, 300': 0.0004,\n",
       " '800, 660': 0.0006209251785159888,\n",
       " '1200, 260': 0.002004208838560978,\n",
       " '1200, 300': 0.0016207455429497568,\n",
       " '1200, 700': 0.0112,\n",
       " '1200, 1060': 0.0028,\n",
       " '1600, 260': 0.001,\n",
       " '1600, 300': 0.0019120458891013384,\n",
       " '1600, 700': 0.033,\n",
       " '1600, 1100': 0.0536,\n",
       " '1600, 1460': 0.004314236982040734,\n",
       " '2000, 260': 0.0009,\n",
       " '2000, 300': 0.0008,\n",
       " '2000, 700': 0.0556,\n",
       " '2000, 1100': 0.092,\n",
       " '2000, 1500': 0.0713,\n",
       " '2000, 1860': 0.0042,\n",
       " '2400, 260': 0.0012,\n",
       " '2400, 300': 0.0006,\n",
       " '2400, 700': 0.0677,\n",
       " '2400, 1100': 0.0969,\n",
       " '2400, 1500': 0.1212,\n",
       " '2400, 1900': 0.0761,\n",
       " '2400, 2260': 0.0062,\n",
       " '2800, 260': 0.0008,\n",
       " '2800, 300': 0.0012112647622892904,\n",
       " '2800, 700': 0.0667,\n",
       " '2800, 1100': 0.1042,\n",
       " '2800, 1500': 0.1271,\n",
       " '2800, 1900': 0.1344,\n",
       " '2800, 2300': 0.0774,\n",
       " '2800, 2660': 0.0071,\n",
       " '3200, 260': 0.0017582417582417582,\n",
       " '3200, 300': 0.0011014318614198458,\n",
       " '3200, 700': 0.058,\n",
       " '3200, 1100': 0.1058,\n",
       " '3200, 1500': 0.1315,\n",
       " '3200, 1900': 0.13958145589266047,\n",
       " '3200, 2300': 0.1333,\n",
       " '3200, 2700': 0.0777,\n",
       " '3200, 3060': 0.007,\n",
       " '3600, 260': 0.001,\n",
       " '3600, 300': 0.001,\n",
       " '3600, 700': 0.0368,\n",
       " '3600, 1100': 0.1208,\n",
       " '3600, 1500': 0.1309,\n",
       " '3600, 1900': 0.1422,\n",
       " '3600, 2300': 0.1452614706471649,\n",
       " '3600, 2700': 0.1309,\n",
       " '3600, 3100': 0.0788,\n",
       " '3600, 3460': 0.0085,\n",
       " '4000, 260': 0.0019,\n",
       " '4000, 300': 0.0008,\n",
       " '4000, 700': 0.024528111436358132,\n",
       " '4000, 1100': 0.1123,\n",
       " '4000, 1500': 0.1331,\n",
       " '4000, 1900': 0.1414,\n",
       " '4000, 2300': 0.1507,\n",
       " '4000, 2700': 0.1437,\n",
       " '4000, 3100': 0.1311,\n",
       " '4000, 3500': 0.0748,\n",
       " '4000, 3860': 0.0054}"
      ]
     },
     "execution_count": 10,
     "metadata": {},
     "output_type": "execute_result"
    }
   ],
   "source": [
    "with open(\"Signal_efficiency_newcuts.pickle\", \"rb\") as f:\n",
    "    tab = pickle.load(f)\n",
    "tab"
   ]
  },
  {
   "cell_type": "code",
   "execution_count": 7,
   "id": "f224f26f",
   "metadata": {},
   "outputs": [],
   "source": [
    "def efficiencies(min_M2, max_M2, min_M3, max_M3):\n",
    "    tablica = {}\n",
    "    \n",
    "    for i in range(min_M3, max_M3+400, 400):\n",
    "        m3 = str(i)\n",
    "        for j in range(min_M2, max_M2+10, 10):\n",
    "            signals = 0\n",
    "            m2 = str(j)\n",
    "            \n",
    "                \n",
    "            Filename = (\"/STORE/ferencek/TRSM_XToHY_6b/2017/13TeV/NANOAOD/TRSM_XToHY_6b_M3_\"\n",
    "                        + m3 +\n",
    "                        \"_M2_\"\n",
    "                        + m2 +\n",
    "                        \"_NANOAOD.root\")\n",
    "\n",
    "            if Path(Filename).is_file():\n",
    "\n",
    "\n",
    "                f = r.TFile.Open(Filename)\n",
    "                tree = f.Get(\"Events\")\n",
    "\n",
    "                nEvts = tree.GetEntriesFast()\n",
    "\n",
    "                for k in range(nEvts):    \n",
    "                    tree.GetEvent(k)\n",
    "\n",
    "\n",
    "                    if tree.nFatJet<3:\n",
    "                        continue\n",
    "\n",
    "                    pts     = tree.FatJet_pt\n",
    "                    etas    = tree.FatJet_eta\n",
    "                    phis    = tree.FatJet_phi\n",
    "                    masses  = tree.FatJet_msoftdrop\n",
    "                    \n",
    "                    with open(\"cuts.json\", \"r\") as cuts:\n",
    "                        cuts_dict = json.load(cuts)\n",
    "                        \n",
    "                    cuts_list = list(cuts_dict.values())\n",
    "                    \n",
    "                    cut_pts = cuts_list[0]\n",
    "                    cut_etas = cuts_list[1]\n",
    "                    cut_masses_min = cuts_list[2]\n",
    "                    cut_masses_max = cuts_list[3]\n",
    "    \n",
    "    \n",
    "\n",
    "                    jet0Flag = pts[0]>cut_pts and abs(etas[0])<cut_etas  and masses[0]>cut_masses_min and masses[0]<cut_masses_max\n",
    "                    jet1Flag = pts[1]>cut_pts and abs(etas[1])<cut_etas  and masses[1]>cut_masses_min and masses[1]<cut_masses_max\n",
    "                    jet2Flag = pts[2]>cut_pts and abs(etas[2])<cut_etas  and masses[2]>cut_masses_min and masses[2]<cut_masses_max\n",
    "\n",
    "                    if (jet0Flag and jet1Flag and jet2Flag):\n",
    "                        signals += 1\n",
    "                eff = signals/nEvts\n",
    "                tablica.update({m3 + \", \" + m2: eff})\n",
    "                with open(\"Signal_efficiency_newcuts.pickle\", \"wb\") as f:\n",
    "                    pickle.dump(tablica, f)\n",
    "\n",
    "                \n",
    "            \n",
    "                    \n",
    "                \n",
    "        \n",
    "    return \"Finished calculating. Use the pickle mode to access the results\""
   ]
  },
  {
   "cell_type": "code",
   "execution_count": 8,
   "id": "dbcab495",
   "metadata": {},
   "outputs": [
    {
     "name": "stdout",
     "output_type": "stream",
     "text": [
      "CPU times: user 7min 8s, sys: 9.2 s, total: 7min 17s\n",
      "Wall time: 9min 14s\n"
     ]
    },
    {
     "data": {
      "text/plain": [
       "'Finished calculating. Use the pickle mode to access the results'"
      ]
     },
     "execution_count": 8,
     "metadata": {},
     "output_type": "execute_result"
    }
   ],
   "source": [
    "%%time\n",
    "efficiencies(min_M2 = 0, max_M2 = 4000, min_M3 = 0, max_M3=4000)"
   ]
  },
  {
   "cell_type": "code",
   "execution_count": 26,
   "id": "0869d195",
   "metadata": {},
   "outputs": [
    {
     "name": "stdout",
     "output_type": "stream",
     "text": [
      "CPU times: user 6.1 s, sys: 58 ms, total: 6.16 s\n",
      "Wall time: 6.14 s\n"
     ]
    },
    {
     "data": {
      "text/plain": [
       "0.2287"
      ]
     },
     "execution_count": 26,
     "metadata": {},
     "output_type": "execute_result"
    }
   ],
   "source": [
    "%%time\n",
    "\n",
    "Filename = \"/STORE/ferencek/TRSM_XToHY_6b/2017/13TeV/NANOAOD/TRSM_XToHY_6b_M3_2000_M2_1100_NANOAOD.root\"\n",
    "\n",
    "f = r.TFile.Open(Filename)\n",
    "tree = f.Get(\"Events\")\n",
    "\n",
    "nEvts = tree.GetEntriesFast()\n",
    "\n",
    "signals = 0\n",
    "    \n",
    "for i in range(nEvts): \n",
    "    tree.GetEvent(i)\n",
    "\n",
    "\n",
    "    if tree.nFatJet<3:\n",
    "        continue\n",
    "\n",
    "    pts     = tree.FatJet_pt\n",
    "    etas    = tree.FatJet_eta\n",
    "    phis    = tree.FatJet_phi\n",
    "    masses  = tree.FatJet_msoftdrop\n",
    "\n",
    "    jet0Flag = pts[0]>250 and abs(etas[0])<2.5 and masses[0]>60\n",
    "    jet1Flag = pts[1]>250 and abs(etas[1])<2.5 and masses[1]>60\n",
    "    jet2Flag = pts[2]>250 and abs(etas[2])<2.5 and masses[2]>60\n",
    "\n",
    "    if (jet0Flag and jet1Flag and jet2Flag):\n",
    "        signals += 1\n",
    "\n",
    "eff = signals/nEvts\n",
    "eff"
   ]
  },
  {
   "cell_type": "code",
   "execution_count": null,
   "id": "d1e0ca31",
   "metadata": {},
   "outputs": [],
   "source": []
  }
 ],
 "metadata": {
  "kernelspec": {
   "display_name": "Python 3 (ipykernel)",
   "language": "python",
   "name": "python3"
  },
  "language_info": {
   "codemirror_mode": {
    "name": "ipython",
    "version": 3
   },
   "file_extension": ".py",
   "mimetype": "text/x-python",
   "name": "python",
   "nbconvert_exporter": "python",
   "pygments_lexer": "ipython3",
   "version": "3.9.6"
  }
 },
 "nbformat": 4,
 "nbformat_minor": 5
}
