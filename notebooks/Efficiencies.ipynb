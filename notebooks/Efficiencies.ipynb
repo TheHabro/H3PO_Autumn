{
 "cells": [
  {
   "cell_type": "code",
   "execution_count": 1,
   "id": "5bb7371f",
   "metadata": {},
   "outputs": [
    {
     "name": "stdout",
     "output_type": "stream",
     "text": [
      "Welcome to JupyROOT 6.24/07\n"
     ]
    }
   ],
   "source": [
    "import ROOT as r\n",
    "\n",
    "from pathlib import Path\n",
    "\n",
    "import pickle"
   ]
  },
  {
   "cell_type": "code",
   "execution_count": 19,
   "id": "b7c0374e",
   "metadata": {},
   "outputs": [
    {
     "data": {
      "text/plain": [
       "{}"
      ]
     },
     "execution_count": 19,
     "metadata": {},
     "output_type": "execute_result"
    }
   ],
   "source": [
    "tablica = {}\n",
    "\n",
    "with open(\"Signal_efficiency.pickle\", \"wb\") as f:\n",
    "    pickle.dump(tablica, f)"
   ]
  },
  {
   "cell_type": "code",
   "execution_count": 60,
   "id": "0351c15d",
   "metadata": {},
   "outputs": [
    {
     "data": {
      "text/plain": [
       "{'400, 260': 0.0005,\n",
       " '800, 260': 0.0038,\n",
       " '800, 300': 0.0033,\n",
       " '800, 660': 0.003208113422332609,\n",
       " '1200, 260': 0.017035775127768313,\n",
       " '1200, 300': 0.019448946515397084,\n",
       " '1200, 700': 0.0388,\n",
       " '1200, 1060': 0.0167,\n",
       " '1600, 260': 0.0244,\n",
       " '1600, 300': 0.027372446412398107,\n",
       " '1600, 700': 0.0961,\n",
       " '1600, 1100': 0.1426,\n",
       " '1600, 1460': 0.025183104244005217,\n",
       " '2000, 260': 0.0337,\n",
       " '2000, 300': 0.0335,\n",
       " '2000, 700': 0.1449,\n",
       " '2000, 1100': 0.2287,\n",
       " '2000, 1500': 0.1967,\n",
       " '2000, 1860': 0.0304,\n",
       " '2400, 260': 0.0347,\n",
       " '2400, 300': 0.0395,\n",
       " '2400, 700': 0.1809,\n",
       " '2400, 1100': 0.2551,\n",
       " '2400, 1500': 0.3,\n",
       " '2400, 1900': 0.2144,\n",
       " '2400, 2260': 0.0378,\n",
       " '2800, 260': 0.0387,\n",
       " '2800, 300': 0.04037549207630968,\n",
       " '2800, 700': 0.1942,\n",
       " '2800, 1100': 0.2729,\n",
       " '2800, 1500': 0.3266,\n",
       " '2800, 1900': 0.3341,\n",
       " '2800, 2300': 0.2296,\n",
       " '2800, 2660': 0.0394,\n",
       " '3200, 260': 0.04032967032967033,\n",
       " '3200, 300': 0.04135375988785421,\n",
       " '3200, 700': 0.1769,\n",
       " '3200, 1100': 0.2875,\n",
       " '3200, 1500': 0.353,\n",
       " '3200, 1900': 0.3616701712225894,\n",
       " '3200, 2300': 0.3482,\n",
       " '3200, 2700': 0.2305,\n",
       " '3200, 3060': 0.0408,\n",
       " '3600, 260': 0.0458,\n",
       " '3600, 300': 0.0431,\n",
       " '3600, 700': 0.144,\n",
       " '3600, 1100': 0.3123,\n",
       " '3600, 1500': 0.3575,\n",
       " '3600, 1900': 0.3738,\n",
       " '3600, 2300': 0.37687838108595473,\n",
       " '3600, 2700': 0.3501,\n",
       " '3600, 3100': 0.2342,\n",
       " '3600, 3460': 0.0436,\n",
       " '4000, 260': 0.0446,\n",
       " '4000, 300': 0.0455,\n",
       " '4000, 700': 0.11052790955889776,\n",
       " '4000, 1100': 0.3174,\n",
       " '4000, 1500': 0.3712,\n",
       " '4000, 1900': 0.3969,\n",
       " '4000, 2300': 0.3996,\n",
       " '4000, 2700': 0.3936,\n",
       " '4000, 3100': 0.3682,\n",
       " '4000, 3500': 0.2337,\n",
       " '4000, 3860': 0.0446}"
      ]
     },
     "execution_count": 60,
     "metadata": {},
     "output_type": "execute_result"
    }
   ],
   "source": [
    "with open(\"Signal_efficiency.pickle\", \"rb\") as f:\n",
    "    tab = pickle.load(f)\n",
    "tab"
   ]
  },
  {
   "cell_type": "code",
   "execution_count": 55,
   "id": "f224f26f",
   "metadata": {},
   "outputs": [],
   "source": [
    "def efficiencies(min_M2, max_M2, min_M3, max_M3):\n",
    "    tablica = {}\n",
    "    \n",
    "    for i in range(min_M3, max_M3+400, 400):\n",
    "        m3 = str(i)\n",
    "        for j in range(min_M2, max_M2+10, 10):\n",
    "            signals = 0\n",
    "            m2 = str(j)\n",
    "            \n",
    "                \n",
    "            Filename = (\"/STORE/ferencek/TRSM_XToHY_6b/2017/13TeV/NANOAOD/TRSM_XToHY_6b_M3_\"\n",
    "                        + m3 +\n",
    "                        \"_M2_\"\n",
    "                        + m2 +\n",
    "                        \"_NANOAOD.root\")\n",
    "\n",
    "            if Path(Filename).is_file():\n",
    "\n",
    "\n",
    "                f = r.TFile.Open(Filename)\n",
    "                tree = f.Get(\"Events\")\n",
    "\n",
    "                nEvts = tree.GetEntriesFast()\n",
    "\n",
    "                for k in range(nEvts):    \n",
    "                    tree.GetEvent(k)\n",
    "\n",
    "\n",
    "                    if tree.nFatJet<3:\n",
    "                        continue\n",
    "\n",
    "                    pts     = tree.FatJet_pt\n",
    "                    etas    = tree.FatJet_eta\n",
    "                    phis    = tree.FatJet_phi\n",
    "                    masses  = tree.FatJet_msoftdrop\n",
    "\n",
    "                    jet0Flag = pts[0]>250 and abs(etas[0])<2.5 and masses[0]>60\n",
    "                    jet1Flag = pts[1]>250 and abs(etas[1])<2.5 and masses[1]>60\n",
    "                    jet2Flag = pts[2]>250 and abs(etas[2])<2.5 and masses[2]>60\n",
    "\n",
    "                    if (jet0Flag and jet1Flag and jet2Flag):\n",
    "                        signals += 1\n",
    "                eff = signals/nEvts\n",
    "                tablica.update({m3 + \", \" + m2: eff})\n",
    "                with open(\"Signal_efficiency.pickle\", \"wb\") as f:\n",
    "                    pickle.dump(tablica, f)\n",
    "\n",
    "                \n",
    "            \n",
    "                    \n",
    "                \n",
    "        \n",
    "    return \"Finished calculating. Use the pickle mode to access the results\""
   ]
  },
  {
   "cell_type": "code",
   "execution_count": 59,
   "id": "dbcab495",
   "metadata": {},
   "outputs": [
    {
     "name": "stdout",
     "output_type": "stream",
     "text": [
      "CPU times: user 5min 46s, sys: 2.87 s, total: 5min 49s\n",
      "Wall time: 5min 52s\n"
     ]
    },
    {
     "data": {
      "text/plain": [
       "'Finished calculating. Use the pickle mode to access the results'"
      ]
     },
     "execution_count": 59,
     "metadata": {},
     "output_type": "execute_result"
    }
   ],
   "source": [
    "%%time\n",
    "efficiencies(min_M2 = 0, max_M2 = 4000, min_M3 = 0, max_M3=4000)"
   ]
  },
  {
   "cell_type": "code",
   "execution_count": 26,
   "id": "0869d195",
   "metadata": {},
   "outputs": [
    {
     "name": "stdout",
     "output_type": "stream",
     "text": [
      "CPU times: user 6.1 s, sys: 58 ms, total: 6.16 s\n",
      "Wall time: 6.14 s\n"
     ]
    },
    {
     "data": {
      "text/plain": [
       "0.2287"
      ]
     },
     "execution_count": 26,
     "metadata": {},
     "output_type": "execute_result"
    }
   ],
   "source": [
    "%%time\n",
    "\n",
    "Filename = \"/STORE/ferencek/TRSM_XToHY_6b/2017/13TeV/NANOAOD/TRSM_XToHY_6b_M3_2000_M2_1100_NANOAOD.root\"\n",
    "\n",
    "f = r.TFile.Open(Filename)\n",
    "tree = f.Get(\"Events\")\n",
    "\n",
    "nEvts = tree.GetEntriesFast()\n",
    "\n",
    "signals = 0\n",
    "    \n",
    "for i in range(nEvts): \n",
    "    tree.GetEvent(i)\n",
    "\n",
    "\n",
    "    if tree.nFatJet<3:\n",
    "        continue\n",
    "\n",
    "    pts     = tree.FatJet_pt\n",
    "    etas    = tree.FatJet_eta\n",
    "    phis    = tree.FatJet_phi\n",
    "    masses  = tree.FatJet_msoftdrop\n",
    "\n",
    "    jet0Flag = pts[0]>250 and abs(etas[0])<2.5 and masses[0]>60\n",
    "    jet1Flag = pts[1]>250 and abs(etas[1])<2.5 and masses[1]>60\n",
    "    jet2Flag = pts[2]>250 and abs(etas[2])<2.5 and masses[2]>60\n",
    "\n",
    "    if (jet0Flag and jet1Flag and jet2Flag):\n",
    "        signals += 1\n",
    "\n",
    "eff = signals/nEvts\n",
    "eff"
   ]
  },
  {
   "cell_type": "code",
   "execution_count": null,
   "id": "d1e0ca31",
   "metadata": {},
   "outputs": [],
   "source": []
  }
 ],
 "metadata": {
  "kernelspec": {
   "display_name": "Python 3 (ipykernel)",
   "language": "python",
   "name": "python3"
  },
  "language_info": {
   "codemirror_mode": {
    "name": "ipython",
    "version": 3
   },
   "file_extension": ".py",
   "mimetype": "text/x-python",
   "name": "python",
   "nbconvert_exporter": "python",
   "pygments_lexer": "ipython3",
   "version": "3.9.6"
  }
 },
 "nbformat": 4,
 "nbformat_minor": 5
}
