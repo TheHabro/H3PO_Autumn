{
 "cells": [
  {
   "cell_type": "code",
   "execution_count": 1,
   "id": "5bb7371f",
   "metadata": {},
   "outputs": [
    {
     "name": "stdout",
     "output_type": "stream",
     "text": [
      "Welcome to JupyROOT 6.24/07\n"
     ]
    }
   ],
   "source": [
    "import ROOT as r\n",
    "\n",
    "from pathlib import Path"
   ]
  },
  {
   "cell_type": "code",
   "execution_count": 3,
   "id": "f224f26f",
   "metadata": {},
   "outputs": [],
   "source": [
    "def efficiencies(min_M2, max_M2, min_M3, max_M3):\n",
    "    tablica = {}\n",
    "    \n",
    "    for i in range(min_M3, max_M3+400, 400):\n",
    "        signals = 0\n",
    "        m3 = str(i)\n",
    "        for j in range(min_M2, max_M2+10, 10):\n",
    "            m2 = str(j)\n",
    "            \n",
    "            Filename = (\"/STORE/ferencek/TRSM_XToHY_6b/2017/13TeV/NANOAOD/TRSM_XToHY_6b_M3_\"\n",
    "                        + m3 +\n",
    "                        \"_M2_\"\n",
    "                        + m2 +\n",
    "                        \"_NANOAOD.root\")\n",
    "            \n",
    "            if Path(Filename).is_file():\n",
    "            \n",
    "            \n",
    "                f = r.TFile.Open(Filename)\n",
    "                tree = f.Get(\"Events\")\n",
    "\n",
    "                nEvts = tree.GetEntriesFast()\n",
    "    \n",
    "                for k in range(nEvts):    \n",
    "                    tree.GetEvent(k)\n",
    "\n",
    "\n",
    "                    if tree.nFatJet<3:\n",
    "                        continue\n",
    "\n",
    "                    pts     = tree.FatJet_pt\n",
    "                    etas    = tree.FatJet_eta\n",
    "                    phis    = tree.FatJet_phi\n",
    "                    masses  = tree.FatJet_msoftdrop\n",
    "\n",
    "                    jet0Flag = pts[0]>250 and abs(etas[0])<2.5 and masses[0]>60\n",
    "                    jet1Flag = pts[1]>250 and abs(etas[1])<2.5 and masses[1]>60\n",
    "                    jet2Flag = pts[2]>250 and abs(etas[2])<2.5 and masses[2]>60\n",
    "\n",
    "                    if (jet0Flag and jet1Flag and jet2Flag):\n",
    "                        signals += 1\n",
    "                eff = signals/nEvts\n",
    "                tablica.update({m3 + \", \" + m2: eff})\n",
    "                \n",
    "        \n",
    "    return tablica"
   ]
  },
  {
   "cell_type": "code",
   "execution_count": 4,
   "id": "dbcab495",
   "metadata": {},
   "outputs": [
    {
     "name": "stdout",
     "output_type": "stream",
     "text": [
      "{'1600, 1100': 0.1426, '2000, 1100': 0.2287, '2400, 1100': 0.2551, '2800, 1100': 0.2729}\n",
      "CPU times: user 25 s, sys: 198 ms, total: 25.2 s\n",
      "Wall time: 25.3 s\n"
     ]
    }
   ],
   "source": [
    "%%time\n",
    "print(efficiencies(min_M2 = 1000, max_M2 = 1300, min_M3 = 1600, max_M3=2800))"
   ]
  },
  {
   "cell_type": "code",
   "execution_count": 2,
   "id": "0869d195",
   "metadata": {},
   "outputs": [
    {
     "name": "stdout",
     "output_type": "stream",
     "text": [
      "CPU times: user 6.58 s, sys: 135 ms, total: 6.72 s\n",
      "Wall time: 6.91 s\n"
     ]
    },
    {
     "data": {
      "text/plain": [
       "0.2287"
      ]
     },
     "execution_count": 2,
     "metadata": {},
     "output_type": "execute_result"
    },
    {
     "name": "stderr",
     "output_type": "stream",
     "text": [
      "Warning in <TClass::Init>: no dictionary for class __pair_base<edm::Hash<1>,edm::ParameterSetBlob> is available\n"
     ]
    }
   ],
   "source": [
    "%%time\n",
    "\n",
    "Filename = \"/STORE/ferencek/TRSM_XToHY_6b/2017/13TeV/NANOAOD/TRSM_XToHY_6b_M3_2000_M2_1100_NANOAOD.root\"\n",
    "\n",
    "f = r.TFile.Open(Filename)\n",
    "tree = f.Get(\"Events\")\n",
    "\n",
    "nEvts = tree.GetEntriesFast()\n",
    "\n",
    "signals = 0\n",
    "    \n",
    "for i in range(nEvts): \n",
    "    tree.GetEvent(i)\n",
    "\n",
    "\n",
    "    if tree.nFatJet<3:\n",
    "        continue\n",
    "\n",
    "    pts     = tree.FatJet_pt\n",
    "    etas    = tree.FatJet_eta\n",
    "    phis    = tree.FatJet_phi\n",
    "    masses  = tree.FatJet_msoftdrop\n",
    "\n",
    "    jet0Flag = pts[0]>250 and abs(etas[0])<2.5 and masses[0]>60\n",
    "    jet1Flag = pts[1]>250 and abs(etas[1])<2.5 and masses[1]>60\n",
    "    jet2Flag = pts[2]>250 and abs(etas[2])<2.5 and masses[2]>60\n",
    "\n",
    "    if (jet0Flag and jet1Flag and jet2Flag):\n",
    "        signals += 1\n",
    "\n",
    "eff = signals/nEvts\n",
    "eff"
   ]
  },
  {
   "cell_type": "code",
   "execution_count": null,
   "id": "9fd2a22d",
   "metadata": {},
   "outputs": [],
   "source": []
  }
 ],
 "metadata": {
  "kernelspec": {
   "display_name": "Python 3 (ipykernel)",
   "language": "python",
   "name": "python3"
  },
  "language_info": {
   "codemirror_mode": {
    "name": "ipython",
    "version": 3
   },
   "file_extension": ".py",
   "mimetype": "text/x-python",
   "name": "python",
   "nbconvert_exporter": "python",
   "pygments_lexer": "ipython3",
   "version": "3.9.6"
  }
 },
 "nbformat": 4,
 "nbformat_minor": 5
}
