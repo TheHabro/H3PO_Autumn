{
 "cells": [
  {
   "cell_type": "code",
   "execution_count": 1,
   "id": "6cea08de",
   "metadata": {},
   "outputs": [
    {
     "name": "stdout",
     "output_type": "stream",
     "text": [
      "Welcome to JupyROOT 6.24/07\n"
     ]
    }
   ],
   "source": [
    "import ROOT as r\n",
    "import numpy as np\n",
    "\n",
    "import pickle\n",
    "from pathlib import Path"
   ]
  },
  {
   "cell_type": "code",
   "execution_count": 2,
   "id": "4b8213df",
   "metadata": {},
   "outputs": [],
   "source": [
    "def plot_eff(filename):\n",
    "    if \"pickle\" not in filename:\n",
    "        raise Exception(\"Only pickle files can be used!\")\n",
    "    \n",
    "    if Path(filename).is_file():\n",
    "        with open(filename, \"rb\") as f:\n",
    "            tablica = pickle.load(f)\n",
    "\n",
    "        key_list = list(tablica.keys()) #M3 i M2 su stringovi u dictu pa ih treba pretvoriti u int\n",
    "\n",
    "        M3_list = []\n",
    "        M2_list = []\n",
    "\n",
    "        for i in key_list:\n",
    "            temp = i.split(\",\")\n",
    "            temp_m3 = int(temp[0])\n",
    "            temp_m2 = int(temp[1])\n",
    "\n",
    "            M3_list.append(temp_m3)\n",
    "            M2_list.append(temp_m2)\n",
    "\n",
    "        efikasnosti_lista = list(tablica.values())\n",
    "\n",
    "        M2_cut = []\n",
    "        M3_cut = []\n",
    "        efikasnosti_cut = []\n",
    "\n",
    "        for i in range(1, len(M2_list)): #treba odrezati nezeljene vrijednosti\n",
    "            #if M2_list[i] <= 1500:\n",
    "            M2_cut.append(M2_list[i])\n",
    "            M3_cut.append(M3_list[i])\n",
    "            efikasnosti_cut.append(efikasnosti_lista[i])\n",
    "\n",
    "        return M2_cut, M3_cut, efikasnosti_cut\n",
    "    \n",
    "    else:\n",
    "        raise Exception(f\"{filename} not found\")"
   ]
  },
  {
   "cell_type": "code",
   "execution_count": 3,
   "id": "811ce998",
   "metadata": {},
   "outputs": [],
   "source": [
    "filename = \"Signal_efficiency.pickle\"\n",
    "M2_list, M3_list, eff_list = plot_eff(filename)"
   ]
  },
  {
   "cell_type": "code",
   "execution_count": 10,
   "id": "7604640a",
   "metadata": {},
   "outputs": [
    {
     "name": "stderr",
     "output_type": "stream",
     "text": [
      "Warning in <TROOT::Append>: Replacing existing TH1: effMap (Potential memory leak).\n",
      "Warning in <TCanvas::Constructor>: Deleting canvas with same name: c\n",
      "Info in <TCanvas::Print>: png file Eff_plot.png has been created\n"
     ]
    },
    {
     "data": {
      "image/png": "[encoded data removed]",
      "text/plain": [
       "<IPython.core.display.Image object>"
      ]
     },
     "metadata": {},
     "output_type": "display_data"
    }
   ],
   "source": [
    "#Root requires the list of bin edges to be converted to a numpy array\n",
    "xmax = max(M3_list)\n",
    "xmin = min(M3_list)\n",
    "\n",
    "ymax = max(M2_list)\n",
    "ymin = min(M2_list)\n",
    "\n",
    "x = np.arange(xmin, xmax+1)\n",
    "y  = np.arange(ymin, ymax+1) #kada korsitim x i y (ili umjesto  lista dolje ili ovakve kakve vec jesu) dobijem prazan graf\n",
    "\n",
    "xBinEdges = np.array([800,1200,1600,2000,2400,2800,3200,4000],dtype='float64')\n",
    "yBinEdges = np.array([260,300,700,1100,1500,1900,2300,2700],dtype='float64')\n",
    "\n",
    "#arguments are: name, title, number of x bins, bin edges in x, number of y bins, bin edges in y\n",
    "h2 = r.TH2F(\"effMap\",\"\",len(xBinEdges)-1,xBinEdges,len(yBinEdges)-1,yBinEdges)\n",
    "\n",
    "#Example on how to fill histogram\n",
    "#Need to fill like this for every signal mass point\n",
    "for i in range(0, len(eff_list)):\n",
    "    mx = M3_list[i]\n",
    "    my = M2_list[i]\n",
    "\n",
    "    eff = eff_list[i]\n",
    "\n",
    "    #print(my, mx, eff)\n",
    "\n",
    "    h2.Fill(mx, my, eff)\n",
    "    \n",
    "r.gStyle.SetOptStat(0000)\n",
    "c = r.TCanvas(\"c\",\"\",1000,1000)\n",
    "h2.GetXaxis().SetTitle(\"M_{X} [GeV]\")\n",
    "h2.Draw(\"colz\")\n",
    "c.Draw()\n",
    "c.SaveAs(\"Eff_plot.png\")"
   ]
  },
  {
   "cell_type": "code",
   "execution_count": 11,
   "id": "5ea08112",
   "metadata": {},
   "outputs": [
    {
     "data": {
      "text/plain": [
       "(array([ 800,  801,  802, ..., 3998, 3999, 4000]),\n",
       " array([ 260,  261,  262, ..., 3858, 3859, 3860]))"
      ]
     },
     "execution_count": 11,
     "metadata": {},
     "output_type": "execute_result"
    }
   ],
   "source": [
    "x, y"
   ]
  },
  {
   "cell_type": "code",
   "execution_count": 8,
   "id": "7ffddfee",
   "metadata": {},
   "outputs": [
    {
     "data": {
      "text/plain": [
       "2"
      ]
     },
     "execution_count": 8,
     "metadata": {},
     "output_type": "execute_result"
    }
   ],
   "source": []
  },
  {
   "cell_type": "code",
   "execution_count": null,
   "id": "cb4c7413",
   "metadata": {},
   "outputs": [],
   "source": []
  }
 ],
 "metadata": {
  "kernelspec": {
   "display_name": "Python 3 (ipykernel)",
   "language": "python",
   "name": "python3"
  },
  "language_info": {
   "codemirror_mode": {
    "name": "ipython",
    "version": 3
   },
   "file_extension": ".py",
   "mimetype": "text/x-python",
   "name": "python",
   "nbconvert_exporter": "python",
   "pygments_lexer": "ipython3",
   "version": "3.9.6"
  }
 },
 "nbformat": 4,
 "nbformat_minor": 5
}
